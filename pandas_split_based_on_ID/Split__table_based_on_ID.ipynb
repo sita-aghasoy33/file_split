{
  "nbformat": 4,
  "nbformat_minor": 0,
  "metadata": {
    "colab": {
      "provenance": []
    },
    "kernelspec": {
      "name": "python3",
      "display_name": "Python 3"
    },
    "language_info": {
      "name": "python"
    }
  },
  "cells": [
    {
      "cell_type": "markdown",
      "source": [
        "# Cədvəlin verilən sıra nömrələri əsasında bərabər aralıqlı hissələrə bölünməsi"
      ],
      "metadata": {
        "id": "RgIHMM-FzdvZ"
      }
    },
    {
      "cell_type": "markdown",
      "source": [
        "Bu \"notebook\"u yaratmaqda məqsədim öz qarşıma çıxan bir problemi həll etmək idi. Əlimdə içində yüz minlərlə sətir olan bir cədvəl var idi. Mən həmin cədvəli ardıcıl identifikasiya nömrələri ilə hər biri 1000-lik aralığı əhatə edən kiçik cədvəllərə çevirməli idim. Məsələn, 1001-dən 2000-ə qədər İD-ləri olan bütün sətirlər bir cədvələ, 2001-3000 aralığındakı nömrələr digər cədvələ yazılmalı idi. Problem həm də ondan ibarət idi ki, İD-lər ardıcıl gəlmirdi. Məsələn 3015-dən sonrakı İD 3020 ola bilərdi, arada bir sıra İD-lər isə cədvəldə yox idi. Buna görə də 1000-lik aralıqlı cədvəllərdə say bərabər olmayacaqdı. Yəni cədvəli İD-yə görə sıralayıb, sonra 1000-1000 bölə bilməzdim. Bu zaman cədvəllər mənim istədiyim kimi 3001-4000 kimi olmazdı, arada istifadə olunamayan İD-lərə görə, 1000 ədəd götürsəm axırıncı ədəd 4000-dən böyük olardı və siyahə səliqəli bölünməzdi. Ona görə aşağıdakı kimi həll yolu fikirləşdim. Bəlkə də, bu bir o qədər çox rast gəlinən problem deyil, yaxud da çox sadədir. Amma düşündüm ki məndən başqa da kiminsə işinə yaraya bilər. Odur ki, bölüşmək qərarına gəldim."
      ],
      "metadata": {
        "id": "p-ZeNyHKui4r"
      }
    },
    {
      "cell_type": "markdown",
      "source": [
        "İlk olaraq lazımi paketləri yükləyirik. Edəcəyimiz iş sadəcə əlimizdəki cədvəli hissələrə bölmək olacağı üçün sadəcə \"Pandas\" paketi kifayətdir. \"Numpy\" paketini isə \"list\" formatındakı ddəyişənləri \"print()\" edərkən ekranda daha yığcam çap olunmasını təmin etmək üçün istifadə edəcəyik."
      ],
      "metadata": {
        "id": "ah2kG4c_ukkx"
      }
    },
    {
      "cell_type": "code",
      "execution_count": 1,
      "metadata": {
        "id": "ooN3yrh_6ldZ"
      },
      "outputs": [],
      "source": [
        "import pandas as pd\n",
        "import numpy as np"
      ]
    },
    {
      "cell_type": "markdown",
      "source": [
        "Hissələrə bölmək istədiyimiz cədvəli \"notebook\"a yükləməliyik. Bunun üçün faylın yerləşdiyi \"directory\"yə, faylın adına və \"pd.read_excel\" funksiyasına ehtiyacımız var."
      ],
      "metadata": {
        "id": "C7TnPH1purC8"
      }
    },
    {
      "cell_type": "code",
      "source": [
        "# read_path = 'C:\\\\Users\\\\...\\\\'\n",
        "# read_file_name = \"random.xlsx\"\n",
        "# bina_az_extr_df = pd.read_excel(read_path+read_file_name)\n",
        "# bina_az_extr_df.head()"
      ],
      "metadata": {
        "id": "89Jk0xRQWazO"
      },
      "execution_count": 2,
      "outputs": []
    },
    {
      "cell_type": "markdown",
      "source": [
        "Hazırda isə biz \"notebook\"un hər kəs üçün rahat icra edilə bilməsindən ötrü özümüz \"Pandas\"ın köməyilə cədvəl yaradayağıq. Mən ID üçün aralığı 1 - 9000 arası götürdüm. Siz bu aralığı dəyişə bilərsiniz."
      ],
      "metadata": {
        "id": "8e54kBtZuwar"
      }
    },
    {
      "cell_type": "code",
      "source": [
        "# 1) random ids grouped by 1000\n",
        "step_size = 1000\n",
        "first = 1\n",
        "last = first + step_size\n",
        "num_of_elements = 1000\n",
        "iter = 0\n",
        "id_list = []\n",
        "while last <= 11_000:\n",
        "  id_list.extend(np.random.randint(first,last,num_of_elements))\n",
        "  # print(iter)\n",
        "  # print(last)\n",
        "  iter = iter + 1\n",
        "  first = last\n",
        "  last = last + step_size\n",
        "\n",
        "# 2) remove duplicates\n",
        "id_series = pd.Series(id_list).drop_duplicates()\n",
        "\n",
        "# 3) add random characteristics\n",
        "\n",
        "# is employed\n",
        "is_emp_series = np.random.choice(['yes', 'no'],len(id_series), [0.4, 0.6]) \n",
        "\n",
        "# education level\n",
        "educat_series  = np.random.choice(['1st', '2nd', '3rd', '4th'],len(id_series), [0.1, 0.3, 0.4, 0.2]) \n",
        "\n",
        "# salary satisfaction\n",
        "sal_sat_series = np.random.choice(['1', '2', '3', '4', '5'],len(id_series), [0.1, 0.3, 0.3, 0.2, 0.1])\n",
        "\n",
        "\n",
        "# 4) build a DataFrame\n",
        "random_df = pd.DataFrame({'ID': id_series,\n",
        "                          'is_employed': is_emp_series,\n",
        "                          'education_level': educat_series,\n",
        "                          'salary_satisfaction': sal_sat_series}) \n",
        "\n",
        "# 5) shuffle it\n",
        "random_df = random_df.sample(frac = 1).reset_index(drop = True)\n",
        "\n",
        "# result\n",
        "random_df.head()"
      ],
      "metadata": {
        "id": "s16PUZZTX-MZ",
        "colab": {
          "base_uri": "https://localhost:8080/",
          "height": 206
        },
        "outputId": "5b9fbbdd-dfb7-479b-a88d-0a92487815ba"
      },
      "execution_count": 3,
      "outputs": [
        {
          "output_type": "execute_result",
          "data": {
            "text/plain": [
              "     ID is_employed education_level salary_satisfaction\n",
              "0  5145          no             2nd                   4\n",
              "1  7814          no             2nd                   1\n",
              "2  1554         yes             2nd                   4\n",
              "3  6807          no             2nd                   4\n",
              "4  1233          no             3rd                   4"
            ],
            "text/html": [
              "\n",
              "  <div id=\"df-7c080129-9356-43c4-98d5-358055e5d474\">\n",
              "    <div class=\"colab-df-container\">\n",
              "      <div>\n",
              "<style scoped>\n",
              "    .dataframe tbody tr th:only-of-type {\n",
              "        vertical-align: middle;\n",
              "    }\n",
              "\n",
              "    .dataframe tbody tr th {\n",
              "        vertical-align: top;\n",
              "    }\n",
              "\n",
              "    .dataframe thead th {\n",
              "        text-align: right;\n",
              "    }\n",
              "</style>\n",
              "<table border=\"1\" class=\"dataframe\">\n",
              "  <thead>\n",
              "    <tr style=\"text-align: right;\">\n",
              "      <th></th>\n",
              "      <th>ID</th>\n",
              "      <th>is_employed</th>\n",
              "      <th>education_level</th>\n",
              "      <th>salary_satisfaction</th>\n",
              "    </tr>\n",
              "  </thead>\n",
              "  <tbody>\n",
              "    <tr>\n",
              "      <th>0</th>\n",
              "      <td>5145</td>\n",
              "      <td>no</td>\n",
              "      <td>2nd</td>\n",
              "      <td>4</td>\n",
              "    </tr>\n",
              "    <tr>\n",
              "      <th>1</th>\n",
              "      <td>7814</td>\n",
              "      <td>no</td>\n",
              "      <td>2nd</td>\n",
              "      <td>1</td>\n",
              "    </tr>\n",
              "    <tr>\n",
              "      <th>2</th>\n",
              "      <td>1554</td>\n",
              "      <td>yes</td>\n",
              "      <td>2nd</td>\n",
              "      <td>4</td>\n",
              "    </tr>\n",
              "    <tr>\n",
              "      <th>3</th>\n",
              "      <td>6807</td>\n",
              "      <td>no</td>\n",
              "      <td>2nd</td>\n",
              "      <td>4</td>\n",
              "    </tr>\n",
              "    <tr>\n",
              "      <th>4</th>\n",
              "      <td>1233</td>\n",
              "      <td>no</td>\n",
              "      <td>3rd</td>\n",
              "      <td>4</td>\n",
              "    </tr>\n",
              "  </tbody>\n",
              "</table>\n",
              "</div>\n",
              "      <button class=\"colab-df-convert\" onclick=\"convertToInteractive('df-7c080129-9356-43c4-98d5-358055e5d474')\"\n",
              "              title=\"Convert this dataframe to an interactive table.\"\n",
              "              style=\"display:none;\">\n",
              "        \n",
              "  <svg xmlns=\"http://www.w3.org/2000/svg\" height=\"24px\"viewBox=\"0 0 24 24\"\n",
              "       width=\"24px\">\n",
              "    <path d=\"M0 0h24v24H0V0z\" fill=\"none\"/>\n",
              "    <path d=\"M18.56 5.44l.94 2.06.94-2.06 2.06-.94-2.06-.94-.94-2.06-.94 2.06-2.06.94zm-11 1L8.5 8.5l.94-2.06 2.06-.94-2.06-.94L8.5 2.5l-.94 2.06-2.06.94zm10 10l.94 2.06.94-2.06 2.06-.94-2.06-.94-.94-2.06-.94 2.06-2.06.94z\"/><path d=\"M17.41 7.96l-1.37-1.37c-.4-.4-.92-.59-1.43-.59-.52 0-1.04.2-1.43.59L10.3 9.45l-7.72 7.72c-.78.78-.78 2.05 0 2.83L4 21.41c.39.39.9.59 1.41.59.51 0 1.02-.2 1.41-.59l7.78-7.78 2.81-2.81c.8-.78.8-2.07 0-2.86zM5.41 20L4 18.59l7.72-7.72 1.47 1.35L5.41 20z\"/>\n",
              "  </svg>\n",
              "      </button>\n",
              "      \n",
              "  <style>\n",
              "    .colab-df-container {\n",
              "      display:flex;\n",
              "      flex-wrap:wrap;\n",
              "      gap: 12px;\n",
              "    }\n",
              "\n",
              "    .colab-df-convert {\n",
              "      background-color: #E8F0FE;\n",
              "      border: none;\n",
              "      border-radius: 50%;\n",
              "      cursor: pointer;\n",
              "      display: none;\n",
              "      fill: #1967D2;\n",
              "      height: 32px;\n",
              "      padding: 0 0 0 0;\n",
              "      width: 32px;\n",
              "    }\n",
              "\n",
              "    .colab-df-convert:hover {\n",
              "      background-color: #E2EBFA;\n",
              "      box-shadow: 0px 1px 2px rgba(60, 64, 67, 0.3), 0px 1px 3px 1px rgba(60, 64, 67, 0.15);\n",
              "      fill: #174EA6;\n",
              "    }\n",
              "\n",
              "    [theme=dark] .colab-df-convert {\n",
              "      background-color: #3B4455;\n",
              "      fill: #D2E3FC;\n",
              "    }\n",
              "\n",
              "    [theme=dark] .colab-df-convert:hover {\n",
              "      background-color: #434B5C;\n",
              "      box-shadow: 0px 1px 3px 1px rgba(0, 0, 0, 0.15);\n",
              "      filter: drop-shadow(0px 1px 2px rgba(0, 0, 0, 0.3));\n",
              "      fill: #FFFFFF;\n",
              "    }\n",
              "  </style>\n",
              "\n",
              "      <script>\n",
              "        const buttonEl =\n",
              "          document.querySelector('#df-7c080129-9356-43c4-98d5-358055e5d474 button.colab-df-convert');\n",
              "        buttonEl.style.display =\n",
              "          google.colab.kernel.accessAllowed ? 'block' : 'none';\n",
              "\n",
              "        async function convertToInteractive(key) {\n",
              "          const element = document.querySelector('#df-7c080129-9356-43c4-98d5-358055e5d474');\n",
              "          const dataTable =\n",
              "            await google.colab.kernel.invokeFunction('convertToInteractive',\n",
              "                                                     [key], {});\n",
              "          if (!dataTable) return;\n",
              "\n",
              "          const docLinkHtml = 'Like what you see? Visit the ' +\n",
              "            '<a target=\"_blank\" href=https://colab.research.google.com/notebooks/data_table.ipynb>data table notebook</a>'\n",
              "            + ' to learn more about interactive tables.';\n",
              "          element.innerHTML = '';\n",
              "          dataTable['output_type'] = 'display_data';\n",
              "          await google.colab.output.renderOutput(dataTable, element);\n",
              "          const docLink = document.createElement('div');\n",
              "          docLink.innerHTML = docLinkHtml;\n",
              "          element.appendChild(docLink);\n",
              "        }\n",
              "      </script>\n",
              "    </div>\n",
              "  </div>\n",
              "  "
            ]
          },
          "metadata": {},
          "execution_count": 3
        }
      ]
    },
    {
      "cell_type": "markdown",
      "source": [
        "Aşağıda yeni bir funksiya yaradırıq. Bu funskiyanın məqsədi "
      ],
      "metadata": {
        "id": "Z02j8MWovMQu"
      }
    },
    {
      "cell_type": "code",
      "source": [
        "def group_ids_in_lists(df, id_col, size_of_list, list_name_pref = 'list_'):\n",
        "  '''\n",
        "  df - DataFrame you want to split;\n",
        "\n",
        "  id_col - the ID column that you want to split;\n",
        "\n",
        "  size_of_list = the number of ids in each list;\n",
        "\n",
        "  list_name_pref - the prefix to add to the new created id lists\n",
        "\n",
        "  ==============================================================\n",
        "\n",
        "  Function returns lists of names of id lists.\n",
        "  '''\n",
        "  # create a sorted list of original IDs\n",
        "  orig_id_list = sorted(list(df[id_col]))\n",
        "\n",
        "  # creating lists for equally binned IDs\n",
        "\n",
        "  # creating a list for range of numbers between the min and max value of original ID list\n",
        "  start_id = orig_id_list[0]\n",
        "  end_id = orig_id_list[-1] \n",
        "  number_list = [*range(start_id,end_id+1)]\n",
        "\n",
        "  # creating equally binned lists from the sequential range of numbers in 'number_list'\n",
        "\n",
        "  # number of elements in subsequent list\n",
        "  steps = size_of_list\n",
        "\n",
        "  # beginning index for list\n",
        "  start_index = 0\n",
        "\n",
        "  # ending index of splitted list\n",
        "  split_end_index = size_of_list\n",
        "\n",
        "  # end index of the whole 'number_list'\n",
        "  end_index = len(number_list) - 1\n",
        "\n",
        "  # iteration number | also is used to name new created list\n",
        "  i = 1\n",
        "\n",
        "  # first splitted list is created out of loop\n",
        "  globals()[list_name_pref+str(i)] = [*range(number_list[start_index], number_list[split_end_index])]\n",
        "  list_of_list_names = [list_name_pref+str(i)]\n",
        "\n",
        "  while split_end_index < end_index:\n",
        "      i = i + 1\n",
        "      start_index = split_end_index\n",
        "\n",
        "      # if reached to the final list\n",
        "      if start_index + steps >= end_index:\n",
        "          # the last list comes up to the last index in 'number_list'\n",
        "          split_end_index = end_index\n",
        "          globals()[list_name_pref+str(i)] = [*range(number_list[start_index], number_list[split_end_index]+1)]\n",
        "          \n",
        "      # if not reached to the final list    \n",
        "      else:\n",
        "          # go to the next part of ids\n",
        "          split_end_index = start_index + steps\n",
        "          globals()[list_name_pref+str(i)] = [*range(number_list[start_index], number_list[split_end_index])]\n",
        "\n",
        "      #append list names to a list for further reference\n",
        "      list_of_list_names.append(list_name_pref+str(i))\n",
        "\n",
        "  # the function returns the list of names of id lists\n",
        "  return list_of_list_names"
      ],
      "metadata": {
        "id": "I0EybN-5WhKF"
      },
      "execution_count": 19,
      "outputs": []
    },
    {
      "cell_type": "code",
      "source": [
        "id_lists = group_ids_in_lists(random_df, 'ID', 1000, 'id_list_')\n",
        "np.array(id_lists)"
      ],
      "metadata": {
        "colab": {
          "base_uri": "https://localhost:8080/"
        },
        "id": "-LNU3Owu2yOS",
        "outputId": "14ca9898-712f-46be-ffe5-616c8382562a"
      },
      "execution_count": 20,
      "outputs": [
        {
          "output_type": "execute_result",
          "data": {
            "text/plain": [
              "array(['id_list_1', 'id_list_2', 'id_list_3', 'id_list_4', 'id_list_5',\n",
              "       'id_list_6', 'id_list_7', 'id_list_8', 'id_list_9', 'id_list_10'],\n",
              "      dtype='<U10')"
            ]
          },
          "metadata": {},
          "execution_count": 20
        }
      ]
    },
    {
      "cell_type": "code",
      "source": [
        "for l in id_lists:\n",
        "    print(\"List name:\"  , l)\n",
        "    print(\"Start ID:\"   , globals()[l][0])\n",
        "    print(\"End ID:\"     , globals()[l][-1])\n",
        "    print(\"=\"*100)\n",
        "    #print(globals()['list_'+str(i)])"
      ],
      "metadata": {
        "id": "VRw3Fo1zWn1e",
        "colab": {
          "base_uri": "https://localhost:8080/"
        },
        "outputId": "d3becc3f-aab3-460c-9cd1-0ba1de753b12"
      },
      "execution_count": 22,
      "outputs": [
        {
          "output_type": "stream",
          "name": "stdout",
          "text": [
            "List name: id_list_1\n",
            "Start ID: 3\n",
            "End ID: 1002\n",
            "====================================================================================================\n",
            "List name: id_list_2\n",
            "Start ID: 1003\n",
            "End ID: 2002\n",
            "====================================================================================================\n",
            "List name: id_list_3\n",
            "Start ID: 2003\n",
            "End ID: 3002\n",
            "====================================================================================================\n",
            "List name: id_list_4\n",
            "Start ID: 3003\n",
            "End ID: 4002\n",
            "====================================================================================================\n",
            "List name: id_list_5\n",
            "Start ID: 4003\n",
            "End ID: 5002\n",
            "====================================================================================================\n",
            "List name: id_list_6\n",
            "Start ID: 5003\n",
            "End ID: 6002\n",
            "====================================================================================================\n",
            "List name: id_list_7\n",
            "Start ID: 6003\n",
            "End ID: 7002\n",
            "====================================================================================================\n",
            "List name: id_list_8\n",
            "Start ID: 7003\n",
            "End ID: 8002\n",
            "====================================================================================================\n",
            "List name: id_list_9\n",
            "Start ID: 8003\n",
            "End ID: 9002\n",
            "====================================================================================================\n",
            "List name: id_list_10\n",
            "Start ID: 9003\n",
            "End ID: 9999\n",
            "====================================================================================================\n"
          ]
        }
      ]
    },
    {
      "cell_type": "markdown",
      "source": [
        "Yaratdığımız siyahıda orijinal siyahıdakı İD-lərdən fərqli olaraq İD nömrələr ardıcıl gəlir. Yəni biz \"range()\" vasitəsilə siyahı yaratdığımız üçün verilən ilk və son ədəd arasındakı bütün ədədləri siyahıya daxil edirik. Amma qeyd etmişdik ki, orijinal siyahıda bəzi İD-lər qeyd olunmayıb. Bu fərq rosesdə heç bir problem yaratmayacaq. Çünki biz sonra müqayisə aparıb həm orijinal siyahıda, həm də bizim yaratdığımız 1000-lik aralıqlı siyahılarda olan ədədlər əsasında bölgü aparacağıq."
      ],
      "metadata": {
        "id": "WMW12jXxxb2E"
      }
    },
    {
      "cell_type": "markdown",
      "source": [
        "Aşağıda yaratdığımız funksiya verilən \"list_of_lists\" listindəki list adlarına əsasən \"globals()\" vasitəsilə həmin adda olan siyahıları tapacaq və onların içindəki ədədləri orijinal dataframedəki ədədlərlə müqayisə edərək eyni 1000-lik qrupa uyğun sətirləri bir dataframedə birləşdirəcək."
      ],
      "metadata": {
        "id": "ds1TxIM9x-EO"
      }
    },
    {
      "cell_type": "code",
      "source": [
        "def split_dfs(df, id_col, list_of_lists, list_name_pref, df_name_pref = 'df_'):\n",
        "  '''\n",
        "  df - DataFrame you want to split;\n",
        "\n",
        "  id_col - the ID column that you want to split;\n",
        "\n",
        "  list_of_lists - the list consisting of names of given id lists;\n",
        "\n",
        "  list_name_pref - the prefix of given id lists;\n",
        "\n",
        "  df_name_pref - the prefix to add to the new created id dfs\n",
        "\n",
        "  ==========================================================\n",
        "\n",
        "  Function returns lists of df names.\n",
        "  '''\n",
        "  list_of_dfs = []\n",
        "  for lst in list_of_lists:\n",
        "      globals()[df_name_pref + lst.lstrip(list_name_pref)] = \\\n",
        "           df[[id_num in globals()[lst] for id_num in df[id_col]]]\n",
        "      # print(df_name_pref + lst.lstrip(list_name_pref))\n",
        "\n",
        "      # append name of created df to list for further reference\n",
        "      list_of_dfs.append(df_name_pref + lst.lstrip(list_name_pref))\n",
        "  \n",
        "  # function returns lists of df names\n",
        "  return list_of_dfs"
      ],
      "metadata": {
        "id": "DD8qoPHk9OBK"
      },
      "execution_count": 24,
      "outputs": []
    },
    {
      "cell_type": "code",
      "source": [
        "np.array(split_dfs(random_df, 'ID', id_lists, 'id_list_'))"
      ],
      "metadata": {
        "colab": {
          "base_uri": "https://localhost:8080/"
        },
        "id": "pCmEVRq_jTYM",
        "outputId": "9fab5af9-1342-49f7-cbc0-9f2de85906e7"
      },
      "execution_count": 25,
      "outputs": [
        {
          "output_type": "execute_result",
          "data": {
            "text/plain": [
              "array(['df_1', 'df_2', 'df_3', 'df_4', 'df_5', 'df_6', 'df_7', 'df_8',\n",
              "       'df_9', 'df_10'], dtype='<U5')"
            ]
          },
          "metadata": {},
          "execution_count": 25
        }
      ]
    },
    {
      "cell_type": "markdown",
      "source": [
        "Daha sonra bu iki \"group_ids_in_lists\" və \"split_dfs\" funksiyalarını bir funksiyada birləşdiririk."
      ],
      "metadata": {
        "id": "Cwv7edwOyZaS"
      }
    },
    {
      "cell_type": "code",
      "source": [
        "def split_df_on_id(df, id_col, size_of_df, list_name_pref = 'list_', df_name_pref = 'df_'): \n",
        "  '''\n",
        "  df - DataFrame you want to split;\n",
        "\n",
        "  id_col - the ID column that you want to split;\n",
        "\n",
        "  size_of_df = the number of ids in each dataframe;\n",
        "  \n",
        "  list_name_pref - the prefix of given id lists;\n",
        "\n",
        "  df_name_pref - the prefix to add to the new created id dfs\n",
        "\n",
        "  ==========================================================\n",
        "\n",
        "  Function returns lists of df names.\n",
        "\n",
        "  '''\n",
        "\n",
        "  # create list of ids\n",
        "  id_lists = group_ids_in_lists(df, id_col, size_of_list=size_of_df, list_name_pref = list_name_pref)\n",
        "\n",
        "  # split dataframes ased on id lists\n",
        "  return split_dfs(df, id_col, list_name_pref = list_name_pref, df_name_pref = df_name_pref, list_of_lists = id_lists)"
      ],
      "metadata": {
        "id": "nru0h5dKjphm"
      },
      "execution_count": 84,
      "outputs": []
    },
    {
      "cell_type": "code",
      "source": [
        "df_list = split_df_on_id(random_df, id_col = 'ID', size_of_df = 1000, list_name_pref = 'id_list_', df_name_pref = 'df_')\n",
        "np.array(df_list)"
      ],
      "metadata": {
        "colab": {
          "base_uri": "https://localhost:8080/"
        },
        "id": "ADgF7ci4nj94",
        "outputId": "ffe08615-81c6-44b7-88bc-c78a04445fcd"
      },
      "execution_count": 87,
      "outputs": [
        {
          "output_type": "execute_result",
          "data": {
            "text/plain": [
              "array(['df_0', 'df_1', 'df_2', 'df_3', 'df_4', 'df_5', 'df_6', 'df_7',\n",
              "       'df_8', 'df_9'], dtype='<U4')"
            ]
          },
          "metadata": {},
          "execution_count": 87
        }
      ]
    },
    {
      "cell_type": "markdown",
      "source": [
        "Sonda yaratdığımız xüsusi \"write_dfs\" funksiyası ilə içində cədvəllərin adları olan siyahıdakı bütün cədvəlləri fayla çevirib qeyd etdiyimiz \"directory\"də yadda saxlayırıq."
      ],
      "metadata": {
        "id": "p29C98tdywPv"
      }
    },
    {
      "cell_type": "code",
      "source": [
        "# write_path = path = 'C:\\\\Users\\\\...\\\\'\n",
        "# to_file = \".csv\"\n",
        "# file_name_pref = \"bina_az_ext_\" \n",
        "\n",
        "def write_dfs(df_list, write_path, file_name_pref, encode, to_file = '.csv'):\n",
        "  '''\n",
        "  df_list - list of given names of dataframes to convert to file\n",
        "\n",
        "  write_path - the folder directory where we want to save files\n",
        "\n",
        "  file_name_pref - the file name prefix we want to use \n",
        "                   as the same pattern for all the created files\n",
        "\n",
        "  encode - used for recognition to characters in different languages \n",
        "           for Azerbaijani use: 'utf-8-sig'\n",
        "           \n",
        "  to_file - the file format that we want to create \n",
        "            ('.csv,' '.xlsx', '.pkl', etc.)\n",
        "\n",
        "  ============================================================================\n",
        "\n",
        "  Function creates and writes files to directory and does not return any value.\n",
        "  '''\n",
        "  for df in df_list:\n",
        "      start = globals()[df][0]\n",
        "      end = globals()[df][-1]\n",
        "      globals()[df].to_csv(path + \n",
        "                          file_name_beg +\n",
        "                          str(start) +\n",
        "                          \"_\" +\n",
        "                          str(end) +\n",
        "                          file_type, encoding = encode)"
      ],
      "metadata": {
        "id": "tHUVCGrVXdLG"
      },
      "execution_count": 13,
      "outputs": []
    },
    {
      "cell_type": "code",
      "source": [
        "# use function\n",
        "# write_dfs(df_list, write_path, file_name_pref, encode, to_file = '.csv')"
      ],
      "metadata": {
        "id": "50ACBE6heyyR"
      },
      "execution_count": null,
      "outputs": []
    },
    {
      "cell_type": "markdown",
      "source": [
        "Ən sonda faylı \"directory\"-dən oxuyan, yuxarıda bəhs etdiyimiz üsulla hissələrə bölən və ən sonda da verilən yeni \"directory\"də yadda saxlayan bir funksiya yaradırıq."
      ],
      "metadata": {
        "id": "LUWiRmLfyz5E"
      }
    },
    {
      "cell_type": "code",
      "source": [
        "def split_file_on_ids(read_path, id_col, write_path, file_name_pref, encode, read_type = 'csv', to_file = '.csv'):\n",
        "  '''\n",
        "  read_path - the file name and directory we want to read;\n",
        "\n",
        "  id_col - the column of ID we want to split the table on;\n",
        "\n",
        "  write_path - the folder directory where we want to save files;\n",
        "\n",
        "  file_name_pref - the file name prefix we want to use \n",
        "                   as the same pattern for all the created files;\n",
        "\n",
        "  encode - used for recognition to characters in different languages\n",
        "           while writing dataframe to a file.\n",
        "           For Azerbaijani use: 'utf-8-sig';\n",
        "\n",
        "  read_type - the file format to read\n",
        "           \n",
        "  to_file - the file format that we want to create: \n",
        "            ('.csv,' '.xlsx', '.pkl', etc.)\n",
        "\n",
        "  ============================================================================\n",
        "\n",
        "  Function creates and writes files to directory\n",
        "  and return \"Succesfully written to given path!\" \n",
        "  in case of successful write result.\n",
        "  '''\n",
        "  # read file from directory\n",
        "  if read_type == 'csv':\n",
        "    df = pd.read_csv(read_path)\n",
        "  elif read_type == 'excel':\n",
        "    df = pd.read_csv(read_path)\n",
        "  elif read_type == 'pickle':\n",
        "    df = pd.read_pickle(read_path)\n",
        "  else:\n",
        "    df = pd.read_tale(read_path)\n",
        "\n",
        "  # split dataframe to grouped dataframes based on id column\n",
        "  df_lists = split_df_on_id(df, id_col, list_name_pref = 'list_', df_name_pref = 'df_')\n",
        "\n",
        "  # write dataframes to directory as a file in defined format\n",
        "  write_dfs(df_list, write_path, file_name_pref, encode, to_file = '.csv')\n",
        "  print(\"Succesfully written to given path!\")"
      ],
      "metadata": {
        "id": "I_kV3DJ9CWwh"
      },
      "execution_count": 14,
      "outputs": []
    },
    {
      "cell_type": "code",
      "source": [
        "# use function\n",
        "# split_file_on_ids(read_path, id_col, write_path, file_name_pref, encode, read_type = 'csv', to_file = '.csv')"
      ],
      "metadata": {
        "id": "wDLvhLjYennx"
      },
      "execution_count": null,
      "outputs": []
    },
    {
      "cell_type": "markdown",
      "source": [
        "Siz də \"notebook\"u endirib funksiyaları öz cədvəllərinizə tətbiq edə bilərsiniz. Ümid edirəm ki, hazırladığım kodu izah edə bildim. Yaranan hər hansısa bir sual olarsa, əlaqə saxlamaqdan çəkinməyin:\n",
        "\n",
        "https://www.challengersdeep.com/"
      ],
      "metadata": {
        "id": "tIciQks3zCzs"
      }
    }
  ]
}