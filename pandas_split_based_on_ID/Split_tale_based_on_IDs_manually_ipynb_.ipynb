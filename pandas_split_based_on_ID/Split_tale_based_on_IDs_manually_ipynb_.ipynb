{
  "nbformat": 4,
  "nbformat_minor": 0,
  "metadata": {
    "colab": {
      "provenance": []
    },
    "kernelspec": {
      "name": "python3",
      "display_name": "Python 3"
    },
    "language_info": {
      "name": "python"
    }
  },
  "cells": [
    {
      "cell_type": "markdown",
      "source": [
        "# Cədvəlin verilən sıra nömrələri əsasında bərabər aralıqlı hissələrə bölünməsi"
      ],
      "metadata": {
        "id": "SVjVJpavzoPC"
      }
    },
    {
      "cell_type": "markdown",
      "source": [
        "Bu \"notebook\"u yaratmaqda məqsədim öz qarşıma çıxan bir problemi həll etmək idi. Əlimdə içində yüz minlərlə sətir olan bir cədvəl var idi. Mən həmin cədvəli ardıcıl identifikasiya nömrələri ilə hər biri 1000-lik aralığı əhatə edən kiçik cədvəllərə çevirməli idim. Məsələn, 1001-dən 2000-ə qədər İD-ləri olan bütün sətirlər bir cədvələ, 2001-3000 aralığındakı nömrələr digər cədvələ yazılmalı idi. Problem həm də ondan ibarət idi ki, İD-lər ardıcıl gəlmirdi. Məsələn 3015-dən sonrakı İD 3020 ola bilərdi, arada bir sıra İD-lər isə cədvəldə yox idi. Buna görə də 1000-lik aralıqlı cədvəllərdə say bərabər olmayacaqdı. Yəni cədvəli İD-yə görə sıralayıb, sonra 1000-1000 bölə bilməzdim. Bu zaman cədvəllər mənim istədiyim kimi 3001-4000 kimi olmazdı, arada istifadə olunamayan İD-lərə görə, 1000 ədəd götürsəm axırıncı ədəd 4000-dən böyük olardı və siyahə səliqəli bölünməzdi. Ona görə aşağıdakı kimi həll yolu fikirləşdim. \n",
        "\n",
        "Bəlkə də, bu bir o qədər çox rast gəlinən problem deyil, yaxud da çox sadədir. Amma düşündüm ki məndən başqa da kiminsə işinə yaraya bilər. Odur ki, bölüşmək qərarına gəldim."
      ],
      "metadata": {
        "id": "T36zXTyvsoJf"
      }
    },
    {
      "cell_type": "markdown",
      "source": [
        "İlk olaraq lazımi paketləri yükləyirik. Edəcəyimiz iş sadəcə əlimizdəki cədvəli hissələrə bölmək olacağı üçün sadəcə \"Pandas\" paketi kifayətdir. \"Numpy\" paketini isə \"list\" formatındakı ddəyişənləri \"print()\" edərkən ekranda daha yığcam çap olunmasını təmin etmək üçün istifadə edəcəyik."
      ],
      "metadata": {
        "id": "XC8nCuMCaHnK"
      }
    },
    {
      "cell_type": "code",
      "execution_count": 3,
      "metadata": {
        "id": "ooN3yrh_6ldZ"
      },
      "outputs": [],
      "source": [
        "import pandas as pd\n",
        "import numpy as np"
      ]
    },
    {
      "cell_type": "markdown",
      "source": [
        "Hissələrə bölmək istədiyimiz cədvəli \"notebook\"a yükləməliyik. Bunun üçün faylın yerləşdiyi \"directory\"yə, faylın adına və \"pd.read_excel\" funksiyasına ehtiyacımız var."
      ],
      "metadata": {
        "id": "-9gHwKBqatfD"
      }
    },
    {
      "cell_type": "code",
      "source": [
        "# read_path = 'C:\\\\Users\\\\...\\\\'\n",
        "# read_file_name = \"bina_az_extracted_2007000_2023000.xlsx\"\n",
        "# bina_az_extr_df = pd.read_excel(read_path+read_file_name)\n",
        "# bina_az_extr_df.head()"
      ],
      "metadata": {
        "id": "89Jk0xRQWazO"
      },
      "execution_count": 4,
      "outputs": []
    },
    {
      "cell_type": "markdown",
      "source": [
        "Hazırda isə biz \"notebook\"un hər kəs üçün rahat icra edilə bilməsindən ötrü özümüz \"Pandas\"ın köməyilə cədvəl yaradayağıq. Mən ID üçün aralığı 0 - 10.000 arası götürdüm. Siz bu aralığı dəyişə bilərsiniz."
      ],
      "metadata": {
        "id": "Gvhx1Es2bmgF"
      }
    },
    {
      "cell_type": "code",
      "source": [
        "# 1) random ids grouped by 1000 (or any other value you want)\n",
        "step_size = 1000\n",
        "first = 0\n",
        "last = first + step_size\n",
        "num_of_elements = 1000\n",
        "iter = 0\n",
        "id_list = []\n",
        "while last <= 11_000:\n",
        "  id_list.extend(np.random.randint(first,last,num_of_elements))\n",
        "  # print(iter)\n",
        "  # print(last)\n",
        "  iter = iter + 1\n",
        "  first = last\n",
        "  last = last + step_size\n",
        "\n",
        "# 2) remove duplicates\n",
        "id_series = pd.Series(id_list).drop_duplicates()\n",
        "\n",
        "# 3) add random characteristics\n",
        "\n",
        "# is employed\n",
        "is_emp_series = np.random.choice(['yes', 'no'],len(id_series), [0.4, 0.6]) \n",
        "\n",
        "# education level\n",
        "educat_series  = np.random.choice(['1st', '2nd', '3rd', '4th'],len(id_series), [0.1, 0.3, 0.4, 0.2]) \n",
        "\n",
        "# salary satisfaction\n",
        "sal_sat_series = np.random.choice(['1', '2', '3', '4', '5'],len(id_series), [0.1, 0.3, 0.3, 0.2, 0.1])\n",
        "\n",
        "\n",
        "# 4) build a DataFrame\n",
        "random_df = pd.DataFrame({'ID': id_series,\n",
        "                          'is_employed': is_emp_series,\n",
        "                          'education_level': educat_series,\n",
        "                          'salary_satisfaction': sal_sat_series}) \n",
        "\n",
        "# 5) shuffle it\n",
        "random_df = random_df.sample(frac = 1).reset_index(drop = True)\n",
        "\n",
        "# result\n",
        "random_df.head()"
      ],
      "metadata": {
        "id": "s16PUZZTX-MZ",
        "colab": {
          "base_uri": "https://localhost:8080/",
          "height": 206
        },
        "outputId": "eb8a43fd-5b65-40bd-dd4d-64726f014006"
      },
      "execution_count": 19,
      "outputs": [
        {
          "output_type": "execute_result",
          "data": {
            "text/plain": [
              "     ID is_employed education_level salary_satisfaction\n",
              "0  1167          no             3rd                   2\n",
              "1   656          no             2nd                   2\n",
              "2  4047          no             4th                   5\n",
              "3  5133         yes             3rd                   3\n",
              "4  5701          no             4th                   1"
            ],
            "text/html": [
              "\n",
              "  <div id=\"df-4faab837-b29e-4770-b236-2f1ba04d2bb5\">\n",
              "    <div class=\"colab-df-container\">\n",
              "      <div>\n",
              "<style scoped>\n",
              "    .dataframe tbody tr th:only-of-type {\n",
              "        vertical-align: middle;\n",
              "    }\n",
              "\n",
              "    .dataframe tbody tr th {\n",
              "        vertical-align: top;\n",
              "    }\n",
              "\n",
              "    .dataframe thead th {\n",
              "        text-align: right;\n",
              "    }\n",
              "</style>\n",
              "<table border=\"1\" class=\"dataframe\">\n",
              "  <thead>\n",
              "    <tr style=\"text-align: right;\">\n",
              "      <th></th>\n",
              "      <th>ID</th>\n",
              "      <th>is_employed</th>\n",
              "      <th>education_level</th>\n",
              "      <th>salary_satisfaction</th>\n",
              "    </tr>\n",
              "  </thead>\n",
              "  <tbody>\n",
              "    <tr>\n",
              "      <th>0</th>\n",
              "      <td>1167</td>\n",
              "      <td>no</td>\n",
              "      <td>3rd</td>\n",
              "      <td>2</td>\n",
              "    </tr>\n",
              "    <tr>\n",
              "      <th>1</th>\n",
              "      <td>656</td>\n",
              "      <td>no</td>\n",
              "      <td>2nd</td>\n",
              "      <td>2</td>\n",
              "    </tr>\n",
              "    <tr>\n",
              "      <th>2</th>\n",
              "      <td>4047</td>\n",
              "      <td>no</td>\n",
              "      <td>4th</td>\n",
              "      <td>5</td>\n",
              "    </tr>\n",
              "    <tr>\n",
              "      <th>3</th>\n",
              "      <td>5133</td>\n",
              "      <td>yes</td>\n",
              "      <td>3rd</td>\n",
              "      <td>3</td>\n",
              "    </tr>\n",
              "    <tr>\n",
              "      <th>4</th>\n",
              "      <td>5701</td>\n",
              "      <td>no</td>\n",
              "      <td>4th</td>\n",
              "      <td>1</td>\n",
              "    </tr>\n",
              "  </tbody>\n",
              "</table>\n",
              "</div>\n",
              "      <button class=\"colab-df-convert\" onclick=\"convertToInteractive('df-4faab837-b29e-4770-b236-2f1ba04d2bb5')\"\n",
              "              title=\"Convert this dataframe to an interactive table.\"\n",
              "              style=\"display:none;\">\n",
              "        \n",
              "  <svg xmlns=\"http://www.w3.org/2000/svg\" height=\"24px\"viewBox=\"0 0 24 24\"\n",
              "       width=\"24px\">\n",
              "    <path d=\"M0 0h24v24H0V0z\" fill=\"none\"/>\n",
              "    <path d=\"M18.56 5.44l.94 2.06.94-2.06 2.06-.94-2.06-.94-.94-2.06-.94 2.06-2.06.94zm-11 1L8.5 8.5l.94-2.06 2.06-.94-2.06-.94L8.5 2.5l-.94 2.06-2.06.94zm10 10l.94 2.06.94-2.06 2.06-.94-2.06-.94-.94-2.06-.94 2.06-2.06.94z\"/><path d=\"M17.41 7.96l-1.37-1.37c-.4-.4-.92-.59-1.43-.59-.52 0-1.04.2-1.43.59L10.3 9.45l-7.72 7.72c-.78.78-.78 2.05 0 2.83L4 21.41c.39.39.9.59 1.41.59.51 0 1.02-.2 1.41-.59l7.78-7.78 2.81-2.81c.8-.78.8-2.07 0-2.86zM5.41 20L4 18.59l7.72-7.72 1.47 1.35L5.41 20z\"/>\n",
              "  </svg>\n",
              "      </button>\n",
              "      \n",
              "  <style>\n",
              "    .colab-df-container {\n",
              "      display:flex;\n",
              "      flex-wrap:wrap;\n",
              "      gap: 12px;\n",
              "    }\n",
              "\n",
              "    .colab-df-convert {\n",
              "      background-color: #E8F0FE;\n",
              "      border: none;\n",
              "      border-radius: 50%;\n",
              "      cursor: pointer;\n",
              "      display: none;\n",
              "      fill: #1967D2;\n",
              "      height: 32px;\n",
              "      padding: 0 0 0 0;\n",
              "      width: 32px;\n",
              "    }\n",
              "\n",
              "    .colab-df-convert:hover {\n",
              "      background-color: #E2EBFA;\n",
              "      box-shadow: 0px 1px 2px rgba(60, 64, 67, 0.3), 0px 1px 3px 1px rgba(60, 64, 67, 0.15);\n",
              "      fill: #174EA6;\n",
              "    }\n",
              "\n",
              "    [theme=dark] .colab-df-convert {\n",
              "      background-color: #3B4455;\n",
              "      fill: #D2E3FC;\n",
              "    }\n",
              "\n",
              "    [theme=dark] .colab-df-convert:hover {\n",
              "      background-color: #434B5C;\n",
              "      box-shadow: 0px 1px 3px 1px rgba(0, 0, 0, 0.15);\n",
              "      filter: drop-shadow(0px 1px 2px rgba(0, 0, 0, 0.3));\n",
              "      fill: #FFFFFF;\n",
              "    }\n",
              "  </style>\n",
              "\n",
              "      <script>\n",
              "        const buttonEl =\n",
              "          document.querySelector('#df-4faab837-b29e-4770-b236-2f1ba04d2bb5 button.colab-df-convert');\n",
              "        buttonEl.style.display =\n",
              "          google.colab.kernel.accessAllowed ? 'block' : 'none';\n",
              "\n",
              "        async function convertToInteractive(key) {\n",
              "          const element = document.querySelector('#df-4faab837-b29e-4770-b236-2f1ba04d2bb5');\n",
              "          const dataTable =\n",
              "            await google.colab.kernel.invokeFunction('convertToInteractive',\n",
              "                                                     [key], {});\n",
              "          if (!dataTable) return;\n",
              "\n",
              "          const docLinkHtml = 'Like what you see? Visit the ' +\n",
              "            '<a target=\"_blank\" href=https://colab.research.google.com/notebooks/data_table.ipynb>data table notebook</a>'\n",
              "            + ' to learn more about interactive tables.';\n",
              "          element.innerHTML = '';\n",
              "          dataTable['output_type'] = 'display_data';\n",
              "          await google.colab.output.renderOutput(dataTable, element);\n",
              "          const docLink = document.createElement('div');\n",
              "          docLink.innerHTML = docLinkHtml;\n",
              "          element.appendChild(docLink);\n",
              "        }\n",
              "      </script>\n",
              "    </div>\n",
              "  </div>\n",
              "  "
            ]
          },
          "metadata": {},
          "execution_count": 19
        }
      ]
    },
    {
      "cell_type": "markdown",
      "source": [
        "Sonra cədvəlimizi bölmək üçün aralıq seçirik (size = 1000). Mən burada İD nömrələrinin 1000-lik aralıqlara bölərək cədvəllər yaratmaq istəyirəm. Ona görə də \"size\" dəyişənini 1000 olaraq mənimsədirəm. Və 0-dan ən cədvəldəki ən böyük İD-dən böyük olan ən kiçik 1000-ə bölünən ədəd arasında 1000 vahid artan ədədi silsilə qururam. (Məsələn siyahıda axırıncı İD 8502-dirsə, ondan böyük ən kiçik 1000-ə bölünən ədəd 9000-dir. Ona görə siyahı belə olacaq: [0, 1000, 2000, 3000, 4000, 5000, 6000, 7000, 8000, 9000]\n",
        "\n",
        "Daha sonra siyahını yaradırıq."
      ],
      "metadata": {
        "id": "hhVJz--fiis9"
      }
    },
    {
      "cell_type": "code",
      "source": [
        "# define the size for split\n",
        "size = 1000\n",
        "# create a list of multiples of 1000 (in this case)\n",
        "# between 0 and the first multiple of 1000 that is greater than last ID number\n",
        "# in original list\n",
        "id_list_orig = list(random_df['ID'])\n",
        "\n",
        "# find the minimum multiple of 1000 that is greater than maximum ID number\n",
        "end_id = (max(id_list_orig)//size+1)*size + 1\n",
        "\n",
        "# creating list of IDs\n",
        "list_threshs = [*range(0,end_id,size)]\n",
        "list_threshs\n",
        "\n",
        "# we will use this list in both methods"
      ],
      "metadata": {
        "colab": {
          "base_uri": "https://localhost:8080/"
        },
        "id": "FccdhLihIU7L",
        "outputId": "8eeb338f-2b4f-4085-bd8f-f80fd8c016a8"
      },
      "execution_count": 12,
      "outputs": [
        {
          "output_type": "execute_result",
          "data": {
            "text/plain": [
              "[0, 1000, 2000, 3000, 4000, 5000, 6000, 7000, 8000, 9000, 10000, 11000]"
            ]
          },
          "metadata": {},
          "execution_count": 12
        }
      ]
    },
    {
      "cell_type": "markdown",
      "source": [
        "\n",
        "Daha sonra 2 üsuldan biri ilə dataframeləri hissələrə bölə bilərik.\n",
        "\n",
        "1-ci üsulda siyahıdakı ədədlərə əsasən İD aralıqlarını göstərən sütun yaradırıq. "
      ],
      "metadata": {
        "id": "Tm8M7_MClw3A"
      }
    },
    {
      "cell_type": "code",
      "source": [
        "# method 1 - Creating a column for ID category\n",
        "# create a column for ID group as the multiples of 1000\n",
        "random_df['ID_Group'] = \\\n",
        "                        [ids if (ids%size == 0) & (ids != 0)\n",
        "                            else (ids//size + 1) * size\n",
        "                        \n",
        "                            for ids in random_df['ID']] \n",
        "random_df.head()"
      ],
      "metadata": {
        "id": "rZK5Af7xGt0f",
        "colab": {
          "base_uri": "https://localhost:8080/",
          "height": 206
        },
        "outputId": "17813cb2-cb02-4e36-c5bb-7b3c17915ac6"
      },
      "execution_count": 13,
      "outputs": [
        {
          "output_type": "execute_result",
          "data": {
            "text/plain": [
              "     ID is_employed education_level salary_satisfaction  ID_Group\n",
              "0  2889         yes             2nd                   1      3000\n",
              "1   681         yes             3rd                   3      1000\n",
              "2  6478          no             2nd                   5      7000\n",
              "3  8880         yes             2nd                   1      9000\n",
              "4  2176         yes             3rd                   2      3000"
            ],
            "text/html": [
              "\n",
              "  <div id=\"df-97022ec9-d523-4bf3-bf63-0cc10ae57bfa\">\n",
              "    <div class=\"colab-df-container\">\n",
              "      <div>\n",
              "<style scoped>\n",
              "    .dataframe tbody tr th:only-of-type {\n",
              "        vertical-align: middle;\n",
              "    }\n",
              "\n",
              "    .dataframe tbody tr th {\n",
              "        vertical-align: top;\n",
              "    }\n",
              "\n",
              "    .dataframe thead th {\n",
              "        text-align: right;\n",
              "    }\n",
              "</style>\n",
              "<table border=\"1\" class=\"dataframe\">\n",
              "  <thead>\n",
              "    <tr style=\"text-align: right;\">\n",
              "      <th></th>\n",
              "      <th>ID</th>\n",
              "      <th>is_employed</th>\n",
              "      <th>education_level</th>\n",
              "      <th>salary_satisfaction</th>\n",
              "      <th>ID_Group</th>\n",
              "    </tr>\n",
              "  </thead>\n",
              "  <tbody>\n",
              "    <tr>\n",
              "      <th>0</th>\n",
              "      <td>2889</td>\n",
              "      <td>yes</td>\n",
              "      <td>2nd</td>\n",
              "      <td>1</td>\n",
              "      <td>3000</td>\n",
              "    </tr>\n",
              "    <tr>\n",
              "      <th>1</th>\n",
              "      <td>681</td>\n",
              "      <td>yes</td>\n",
              "      <td>3rd</td>\n",
              "      <td>3</td>\n",
              "      <td>1000</td>\n",
              "    </tr>\n",
              "    <tr>\n",
              "      <th>2</th>\n",
              "      <td>6478</td>\n",
              "      <td>no</td>\n",
              "      <td>2nd</td>\n",
              "      <td>5</td>\n",
              "      <td>7000</td>\n",
              "    </tr>\n",
              "    <tr>\n",
              "      <th>3</th>\n",
              "      <td>8880</td>\n",
              "      <td>yes</td>\n",
              "      <td>2nd</td>\n",
              "      <td>1</td>\n",
              "      <td>9000</td>\n",
              "    </tr>\n",
              "    <tr>\n",
              "      <th>4</th>\n",
              "      <td>2176</td>\n",
              "      <td>yes</td>\n",
              "      <td>3rd</td>\n",
              "      <td>2</td>\n",
              "      <td>3000</td>\n",
              "    </tr>\n",
              "  </tbody>\n",
              "</table>\n",
              "</div>\n",
              "      <button class=\"colab-df-convert\" onclick=\"convertToInteractive('df-97022ec9-d523-4bf3-bf63-0cc10ae57bfa')\"\n",
              "              title=\"Convert this dataframe to an interactive table.\"\n",
              "              style=\"display:none;\">\n",
              "        \n",
              "  <svg xmlns=\"http://www.w3.org/2000/svg\" height=\"24px\"viewBox=\"0 0 24 24\"\n",
              "       width=\"24px\">\n",
              "    <path d=\"M0 0h24v24H0V0z\" fill=\"none\"/>\n",
              "    <path d=\"M18.56 5.44l.94 2.06.94-2.06 2.06-.94-2.06-.94-.94-2.06-.94 2.06-2.06.94zm-11 1L8.5 8.5l.94-2.06 2.06-.94-2.06-.94L8.5 2.5l-.94 2.06-2.06.94zm10 10l.94 2.06.94-2.06 2.06-.94-2.06-.94-.94-2.06-.94 2.06-2.06.94z\"/><path d=\"M17.41 7.96l-1.37-1.37c-.4-.4-.92-.59-1.43-.59-.52 0-1.04.2-1.43.59L10.3 9.45l-7.72 7.72c-.78.78-.78 2.05 0 2.83L4 21.41c.39.39.9.59 1.41.59.51 0 1.02-.2 1.41-.59l7.78-7.78 2.81-2.81c.8-.78.8-2.07 0-2.86zM5.41 20L4 18.59l7.72-7.72 1.47 1.35L5.41 20z\"/>\n",
              "  </svg>\n",
              "      </button>\n",
              "      \n",
              "  <style>\n",
              "    .colab-df-container {\n",
              "      display:flex;\n",
              "      flex-wrap:wrap;\n",
              "      gap: 12px;\n",
              "    }\n",
              "\n",
              "    .colab-df-convert {\n",
              "      background-color: #E8F0FE;\n",
              "      border: none;\n",
              "      border-radius: 50%;\n",
              "      cursor: pointer;\n",
              "      display: none;\n",
              "      fill: #1967D2;\n",
              "      height: 32px;\n",
              "      padding: 0 0 0 0;\n",
              "      width: 32px;\n",
              "    }\n",
              "\n",
              "    .colab-df-convert:hover {\n",
              "      background-color: #E2EBFA;\n",
              "      box-shadow: 0px 1px 2px rgba(60, 64, 67, 0.3), 0px 1px 3px 1px rgba(60, 64, 67, 0.15);\n",
              "      fill: #174EA6;\n",
              "    }\n",
              "\n",
              "    [theme=dark] .colab-df-convert {\n",
              "      background-color: #3B4455;\n",
              "      fill: #D2E3FC;\n",
              "    }\n",
              "\n",
              "    [theme=dark] .colab-df-convert:hover {\n",
              "      background-color: #434B5C;\n",
              "      box-shadow: 0px 1px 3px 1px rgba(0, 0, 0, 0.15);\n",
              "      filter: drop-shadow(0px 1px 2px rgba(0, 0, 0, 0.3));\n",
              "      fill: #FFFFFF;\n",
              "    }\n",
              "  </style>\n",
              "\n",
              "      <script>\n",
              "        const buttonEl =\n",
              "          document.querySelector('#df-97022ec9-d523-4bf3-bf63-0cc10ae57bfa button.colab-df-convert');\n",
              "        buttonEl.style.display =\n",
              "          google.colab.kernel.accessAllowed ? 'block' : 'none';\n",
              "\n",
              "        async function convertToInteractive(key) {\n",
              "          const element = document.querySelector('#df-97022ec9-d523-4bf3-bf63-0cc10ae57bfa');\n",
              "          const dataTable =\n",
              "            await google.colab.kernel.invokeFunction('convertToInteractive',\n",
              "                                                     [key], {});\n",
              "          if (!dataTable) return;\n",
              "\n",
              "          const docLinkHtml = 'Like what you see? Visit the ' +\n",
              "            '<a target=\"_blank\" href=https://colab.research.google.com/notebooks/data_table.ipynb>data table notebook</a>'\n",
              "            + ' to learn more about interactive tables.';\n",
              "          element.innerHTML = '';\n",
              "          dataTable['output_type'] = 'display_data';\n",
              "          await google.colab.output.renderOutput(dataTable, element);\n",
              "          const docLink = document.createElement('div');\n",
              "          docLink.innerHTML = docLinkHtml;\n",
              "          element.appendChild(docLink);\n",
              "        }\n",
              "      </script>\n",
              "    </div>\n",
              "  </div>\n",
              "  "
            ]
          },
          "metadata": {},
          "execution_count": 13
        }
      ]
    },
    {
      "cell_type": "markdown",
      "source": [
        "Sonra isə qrup nömrəsi eyni olan sətirləri bir dataframe-də qruplaşdırırıq. Dataframeləri loop-un daxilində yaratmaq üçün \"globals()\" funksiyasından istifadə edirik. Bu funksiya bizə daxil etdiyimiz \"string\" yəni mətni dəyişən adına çevirməkdə kömək edir."
      ],
      "metadata": {
        "id": "oGKpbJKWmpY7"
      }
    },
    {
      "cell_type": "code",
      "source": [
        "df_list = []\n",
        "# for the multiples of 1000 in the list except 0\n",
        "for i in list_threshs[1:]:\n",
        "  # create a sliced dataframe where 'ID_Group' is equal to that multiple of 1000\n",
        "  globals()['df_'+str(i)] = random_df[random_df['ID_Group'] == i]\n",
        "\n",
        "  # append the name of df to a list for further reference\n",
        "  df_list.append('df_'+str(i))\n",
        "print(df_list)"
      ],
      "metadata": {
        "colab": {
          "base_uri": "https://localhost:8080/"
        },
        "id": "nbW72VZ1KtcG",
        "outputId": "9ab0ea3d-169c-4f3b-ecdf-521a4227849a"
      },
      "execution_count": 14,
      "outputs": [
        {
          "output_type": "stream",
          "name": "stdout",
          "text": [
            "['df_1000', 'df_2000', 'df_3000', 'df_4000', 'df_5000', 'df_6000', 'df_7000', 'df_8000', 'df_9000', 'df_10000', 'df_11000']\n"
          ]
        }
      ]
    },
    {
      "cell_type": "markdown",
      "source": [
        "2-ci üsulda \"pd.cut()\" metodundan istifadə edirik. Burada \"pd.cut()\" vasitəsilə cədvələ İD sütunu əsasında interval sütunu yaradırıq. "
      ],
      "metadata": {
        "id": "fmDEMLmZnpjc"
      }
    },
    {
      "cell_type": "code",
      "source": [
        "# method 2 - Cut intervals of 'ID' column\n",
        "# based on the list created in 1st step\n",
        "random_df['ID_Bins'] = pd.cut(random_df['ID'], bins = list_threshs)\n",
        "random_df.head()"
      ],
      "metadata": {
        "id": "BUHrJlc5LWOL",
        "colab": {
          "base_uri": "https://localhost:8080/",
          "height": 206
        },
        "outputId": "dcd3f0c2-3f56-4a23-bb8a-1a2da82745c6"
      },
      "execution_count": 15,
      "outputs": [
        {
          "output_type": "execute_result",
          "data": {
            "text/plain": [
              "     ID is_employed education_level salary_satisfaction  ID_Group  \\\n",
              "0  2889         yes             2nd                   1      3000   \n",
              "1   681         yes             3rd                   3      1000   \n",
              "2  6478          no             2nd                   5      7000   \n",
              "3  8880         yes             2nd                   1      9000   \n",
              "4  2176         yes             3rd                   2      3000   \n",
              "\n",
              "        ID_Bins  \n",
              "0  (2000, 3000]  \n",
              "1     (0, 1000]  \n",
              "2  (6000, 7000]  \n",
              "3  (8000, 9000]  \n",
              "4  (2000, 3000]  "
            ],
            "text/html": [
              "\n",
              "  <div id=\"df-23104ac8-5bf5-40c5-896b-f54b4e73dab6\">\n",
              "    <div class=\"colab-df-container\">\n",
              "      <div>\n",
              "<style scoped>\n",
              "    .dataframe tbody tr th:only-of-type {\n",
              "        vertical-align: middle;\n",
              "    }\n",
              "\n",
              "    .dataframe tbody tr th {\n",
              "        vertical-align: top;\n",
              "    }\n",
              "\n",
              "    .dataframe thead th {\n",
              "        text-align: right;\n",
              "    }\n",
              "</style>\n",
              "<table border=\"1\" class=\"dataframe\">\n",
              "  <thead>\n",
              "    <tr style=\"text-align: right;\">\n",
              "      <th></th>\n",
              "      <th>ID</th>\n",
              "      <th>is_employed</th>\n",
              "      <th>education_level</th>\n",
              "      <th>salary_satisfaction</th>\n",
              "      <th>ID_Group</th>\n",
              "      <th>ID_Bins</th>\n",
              "    </tr>\n",
              "  </thead>\n",
              "  <tbody>\n",
              "    <tr>\n",
              "      <th>0</th>\n",
              "      <td>2889</td>\n",
              "      <td>yes</td>\n",
              "      <td>2nd</td>\n",
              "      <td>1</td>\n",
              "      <td>3000</td>\n",
              "      <td>(2000, 3000]</td>\n",
              "    </tr>\n",
              "    <tr>\n",
              "      <th>1</th>\n",
              "      <td>681</td>\n",
              "      <td>yes</td>\n",
              "      <td>3rd</td>\n",
              "      <td>3</td>\n",
              "      <td>1000</td>\n",
              "      <td>(0, 1000]</td>\n",
              "    </tr>\n",
              "    <tr>\n",
              "      <th>2</th>\n",
              "      <td>6478</td>\n",
              "      <td>no</td>\n",
              "      <td>2nd</td>\n",
              "      <td>5</td>\n",
              "      <td>7000</td>\n",
              "      <td>(6000, 7000]</td>\n",
              "    </tr>\n",
              "    <tr>\n",
              "      <th>3</th>\n",
              "      <td>8880</td>\n",
              "      <td>yes</td>\n",
              "      <td>2nd</td>\n",
              "      <td>1</td>\n",
              "      <td>9000</td>\n",
              "      <td>(8000, 9000]</td>\n",
              "    </tr>\n",
              "    <tr>\n",
              "      <th>4</th>\n",
              "      <td>2176</td>\n",
              "      <td>yes</td>\n",
              "      <td>3rd</td>\n",
              "      <td>2</td>\n",
              "      <td>3000</td>\n",
              "      <td>(2000, 3000]</td>\n",
              "    </tr>\n",
              "  </tbody>\n",
              "</table>\n",
              "</div>\n",
              "      <button class=\"colab-df-convert\" onclick=\"convertToInteractive('df-23104ac8-5bf5-40c5-896b-f54b4e73dab6')\"\n",
              "              title=\"Convert this dataframe to an interactive table.\"\n",
              "              style=\"display:none;\">\n",
              "        \n",
              "  <svg xmlns=\"http://www.w3.org/2000/svg\" height=\"24px\"viewBox=\"0 0 24 24\"\n",
              "       width=\"24px\">\n",
              "    <path d=\"M0 0h24v24H0V0z\" fill=\"none\"/>\n",
              "    <path d=\"M18.56 5.44l.94 2.06.94-2.06 2.06-.94-2.06-.94-.94-2.06-.94 2.06-2.06.94zm-11 1L8.5 8.5l.94-2.06 2.06-.94-2.06-.94L8.5 2.5l-.94 2.06-2.06.94zm10 10l.94 2.06.94-2.06 2.06-.94-2.06-.94-.94-2.06-.94 2.06-2.06.94z\"/><path d=\"M17.41 7.96l-1.37-1.37c-.4-.4-.92-.59-1.43-.59-.52 0-1.04.2-1.43.59L10.3 9.45l-7.72 7.72c-.78.78-.78 2.05 0 2.83L4 21.41c.39.39.9.59 1.41.59.51 0 1.02-.2 1.41-.59l7.78-7.78 2.81-2.81c.8-.78.8-2.07 0-2.86zM5.41 20L4 18.59l7.72-7.72 1.47 1.35L5.41 20z\"/>\n",
              "  </svg>\n",
              "      </button>\n",
              "      \n",
              "  <style>\n",
              "    .colab-df-container {\n",
              "      display:flex;\n",
              "      flex-wrap:wrap;\n",
              "      gap: 12px;\n",
              "    }\n",
              "\n",
              "    .colab-df-convert {\n",
              "      background-color: #E8F0FE;\n",
              "      border: none;\n",
              "      border-radius: 50%;\n",
              "      cursor: pointer;\n",
              "      display: none;\n",
              "      fill: #1967D2;\n",
              "      height: 32px;\n",
              "      padding: 0 0 0 0;\n",
              "      width: 32px;\n",
              "    }\n",
              "\n",
              "    .colab-df-convert:hover {\n",
              "      background-color: #E2EBFA;\n",
              "      box-shadow: 0px 1px 2px rgba(60, 64, 67, 0.3), 0px 1px 3px 1px rgba(60, 64, 67, 0.15);\n",
              "      fill: #174EA6;\n",
              "    }\n",
              "\n",
              "    [theme=dark] .colab-df-convert {\n",
              "      background-color: #3B4455;\n",
              "      fill: #D2E3FC;\n",
              "    }\n",
              "\n",
              "    [theme=dark] .colab-df-convert:hover {\n",
              "      background-color: #434B5C;\n",
              "      box-shadow: 0px 1px 3px 1px rgba(0, 0, 0, 0.15);\n",
              "      filter: drop-shadow(0px 1px 2px rgba(0, 0, 0, 0.3));\n",
              "      fill: #FFFFFF;\n",
              "    }\n",
              "  </style>\n",
              "\n",
              "      <script>\n",
              "        const buttonEl =\n",
              "          document.querySelector('#df-23104ac8-5bf5-40c5-896b-f54b4e73dab6 button.colab-df-convert');\n",
              "        buttonEl.style.display =\n",
              "          google.colab.kernel.accessAllowed ? 'block' : 'none';\n",
              "\n",
              "        async function convertToInteractive(key) {\n",
              "          const element = document.querySelector('#df-23104ac8-5bf5-40c5-896b-f54b4e73dab6');\n",
              "          const dataTable =\n",
              "            await google.colab.kernel.invokeFunction('convertToInteractive',\n",
              "                                                     [key], {});\n",
              "          if (!dataTable) return;\n",
              "\n",
              "          const docLinkHtml = 'Like what you see? Visit the ' +\n",
              "            '<a target=\"_blank\" href=https://colab.research.google.com/notebooks/data_table.ipynb>data table notebook</a>'\n",
              "            + ' to learn more about interactive tables.';\n",
              "          element.innerHTML = '';\n",
              "          dataTable['output_type'] = 'display_data';\n",
              "          await google.colab.output.renderOutput(dataTable, element);\n",
              "          const docLink = document.createElement('div');\n",
              "          docLink.innerHTML = docLinkHtml;\n",
              "          element.appendChild(docLink);\n",
              "        }\n",
              "      </script>\n",
              "    </div>\n",
              "  </div>\n",
              "  "
            ]
          },
          "metadata": {},
          "execution_count": 15
        }
      ]
    },
    {
      "cell_type": "markdown",
      "source": [
        "Sonra yuxarıda yaratdığımız \"list_threshs\" listi ilə sort olunmuş təkrarlanmayan (\"unique\") interval siyahısı əsasında bir \"dictionary\" yaradırıq. Burada \"list_threshs\" listi bizə yeni yaranan dataframeləri loop-un daxilində adlandırmağa kömək edəcək.\n",
        "\n",
        "Sonra \"dictionary\" daxilindəki \"key\" və \"value\" cütündən istifadə edərək loop formalaşdırırıq və onun daxilində hər aralıq üçün eyni aralığa uyğun gələn sətirləri özündə birləşdirən dataframelər yaradırıq."
      ],
      "metadata": {
        "id": "rIC2EsUHoYry"
      }
    },
    {
      "cell_type": "code",
      "source": [
        "# create a dictionary\n",
        "# from multiples of 1000 in 'list_threshs' as keys\n",
        "# and 'ID_Bins' as values\n",
        "bin_list =  sorted(random_df[\"ID_Bins\"].value_counts().index.to_list())\n",
        "bin_dict = {list_threshs[1:][i]: bin_list[i] for i in range(len(bin_list))}\n",
        "\n",
        "\n",
        "print('Bin Dictionary')\n",
        "print(bin_dict)\n",
        "print('='*100)\n",
        "\n",
        "\n",
        "df_list = []\n",
        "# for multiples of 1000 in 'list_threshs' as keys\n",
        "# and 'ID_Bins' as values\n",
        "for key , value in bin_dict.items():\n",
        "  # create a sliced dataframe where 'ID_Bins' = given interval\n",
        "  # and name the dataframe as the given multiple of 1000\n",
        "  globals()['df_'+str(key)] = random_df[random_df['ID_Bins'] == value]\n",
        "  df_list.append('df_'+str(key))\n",
        "\n",
        "\n",
        "print('')\n",
        "print('List of Created DataFrames')\n",
        "print(df_list)\n",
        "print('='*100)"
      ],
      "metadata": {
        "colab": {
          "base_uri": "https://localhost:8080/"
        },
        "id": "cSye8O4hPCWp",
        "outputId": "909d2d33-45a6-4913-c3c2-194c447f4f96"
      },
      "execution_count": 16,
      "outputs": [
        {
          "output_type": "stream",
          "name": "stdout",
          "text": [
            "Bin Dictionary\n",
            "{1000: Interval(0, 1000, closed='right'), 2000: Interval(1000, 2000, closed='right'), 3000: Interval(2000, 3000, closed='right'), 4000: Interval(3000, 4000, closed='right'), 5000: Interval(4000, 5000, closed='right'), 6000: Interval(5000, 6000, closed='right'), 7000: Interval(6000, 7000, closed='right'), 8000: Interval(7000, 8000, closed='right'), 9000: Interval(8000, 9000, closed='right'), 10000: Interval(9000, 10000, closed='right'), 11000: Interval(10000, 11000, closed='right')}\n",
            "====================================================================================================\n",
            "\n",
            "List of Created DataFrames\n",
            "['df_1000', 'df_2000', 'df_3000', 'df_4000', 'df_5000', 'df_6000', 'df_7000', 'df_8000', 'df_9000', 'df_10000', 'df_11000']\n",
            "====================================================================================================\n"
          ]
        }
      ]
    },
    {
      "cell_type": "markdown",
      "source": [
        "Cədvəlləri orijinala uyğunlaşdırmaq üçün yaratdığımız yeni sütunları axırda bütün cədvəllərdən silirik."
      ],
      "metadata": {
        "id": "LJ8y66ZUqEOS"
      }
    },
    {
      "cell_type": "code",
      "source": [
        "# print summary results\n",
        "for df_name in df_list:\n",
        "  df = globals()[df_name]\n",
        "  print('DataFrame name:'       , df_name)\n",
        "  print('Min ID value:'         , df['ID'].min())\n",
        "  print('Max ID value:'         , df['ID'].max())\n",
        "  print('Interval:'             , df['ID_Bins'].unique())\n",
        "  print('Group:'                , df['ID_Group'].unique())\n",
        "  print('='*100)\n",
        "  print('')\n",
        "  # and for each sliced dataframe drop the unncessary columns\n",
        "  # (it is an optional step)\n",
        "  globals()[df_name] = globals()[df_name].drop(['ID_Bins', 'ID_Group'], axis = 1)"
      ],
      "metadata": {
        "colab": {
          "base_uri": "https://localhost:8080/"
        },
        "id": "6t93E1W25THU",
        "outputId": "18ec5197-b214-4594-ea78-b692401b936c"
      },
      "execution_count": 17,
      "outputs": [
        {
          "output_type": "stream",
          "name": "stdout",
          "text": [
            "DataFrame name: df_1000\n",
            "Min ID value: 1\n",
            "Max ID value: 1000\n",
            "Interval: [(0, 1000]]\n",
            "Categories (11, interval[int64, right]): [(0, 1000] < (1000, 2000] < (2000, 3000] < (3000, 4000] <\n",
            "                                          ... < (7000, 8000] < (8000, 9000] <\n",
            "                                          (9000, 10000] < (10000, 11000]]\n",
            "Group: [1000]\n",
            "====================================================================================================\n",
            "\n",
            "DataFrame name: df_2000\n",
            "Min ID value: 1001\n",
            "Max ID value: 1999\n",
            "Interval: [(1000, 2000]]\n",
            "Categories (11, interval[int64, right]): [(0, 1000] < (1000, 2000] < (2000, 3000] < (3000, 4000] <\n",
            "                                          ... < (7000, 8000] < (8000, 9000] <\n",
            "                                          (9000, 10000] < (10000, 11000]]\n",
            "Group: [2000]\n",
            "====================================================================================================\n",
            "\n",
            "DataFrame name: df_3000\n",
            "Min ID value: 2001\n",
            "Max ID value: 2998\n",
            "Interval: [(2000, 3000]]\n",
            "Categories (11, interval[int64, right]): [(0, 1000] < (1000, 2000] < (2000, 3000] < (3000, 4000] <\n",
            "                                          ... < (7000, 8000] < (8000, 9000] <\n",
            "                                          (9000, 10000] < (10000, 11000]]\n",
            "Group: [3000]\n",
            "====================================================================================================\n",
            "\n",
            "DataFrame name: df_4000\n",
            "Min ID value: 3001\n",
            "Max ID value: 4000\n",
            "Interval: [(3000, 4000]]\n",
            "Categories (11, interval[int64, right]): [(0, 1000] < (1000, 2000] < (2000, 3000] < (3000, 4000] <\n",
            "                                          ... < (7000, 8000] < (8000, 9000] <\n",
            "                                          (9000, 10000] < (10000, 11000]]\n",
            "Group: [4000]\n",
            "====================================================================================================\n",
            "\n",
            "DataFrame name: df_5000\n",
            "Min ID value: 4001\n",
            "Max ID value: 5000\n",
            "Interval: [(4000, 5000]]\n",
            "Categories (11, interval[int64, right]): [(0, 1000] < (1000, 2000] < (2000, 3000] < (3000, 4000] <\n",
            "                                          ... < (7000, 8000] < (8000, 9000] <\n",
            "                                          (9000, 10000] < (10000, 11000]]\n",
            "Group: [5000]\n",
            "====================================================================================================\n",
            "\n",
            "DataFrame name: df_6000\n",
            "Min ID value: 5001\n",
            "Max ID value: 6000\n",
            "Interval: [(5000, 6000]]\n",
            "Categories (11, interval[int64, right]): [(0, 1000] < (1000, 2000] < (2000, 3000] < (3000, 4000] <\n",
            "                                          ... < (7000, 8000] < (8000, 9000] <\n",
            "                                          (9000, 10000] < (10000, 11000]]\n",
            "Group: [6000]\n",
            "====================================================================================================\n",
            "\n",
            "DataFrame name: df_7000\n",
            "Min ID value: 6001\n",
            "Max ID value: 6997\n",
            "Interval: [(6000, 7000]]\n",
            "Categories (11, interval[int64, right]): [(0, 1000] < (1000, 2000] < (2000, 3000] < (3000, 4000] <\n",
            "                                          ... < (7000, 8000] < (8000, 9000] <\n",
            "                                          (9000, 10000] < (10000, 11000]]\n",
            "Group: [7000]\n",
            "====================================================================================================\n",
            "\n",
            "DataFrame name: df_8000\n",
            "Min ID value: 7001\n",
            "Max ID value: 8000\n",
            "Interval: [(7000, 8000]]\n",
            "Categories (11, interval[int64, right]): [(0, 1000] < (1000, 2000] < (2000, 3000] < (3000, 4000] <\n",
            "                                          ... < (7000, 8000] < (8000, 9000] <\n",
            "                                          (9000, 10000] < (10000, 11000]]\n",
            "Group: [8000]\n",
            "====================================================================================================\n",
            "\n",
            "DataFrame name: df_9000\n",
            "Min ID value: 8001\n",
            "Max ID value: 9000\n",
            "Interval: [(8000, 9000]]\n",
            "Categories (11, interval[int64, right]): [(0, 1000] < (1000, 2000] < (2000, 3000] < (3000, 4000] <\n",
            "                                          ... < (7000, 8000] < (8000, 9000] <\n",
            "                                          (9000, 10000] < (10000, 11000]]\n",
            "Group: [9000]\n",
            "====================================================================================================\n",
            "\n",
            "DataFrame name: df_10000\n",
            "Min ID value: 9001\n",
            "Max ID value: 9999\n",
            "Interval: [(9000, 10000]]\n",
            "Categories (11, interval[int64, right]): [(0, 1000] < (1000, 2000] < (2000, 3000] < (3000, 4000] <\n",
            "                                          ... < (7000, 8000] < (8000, 9000] <\n",
            "                                          (9000, 10000] < (10000, 11000]]\n",
            "Group: [10000]\n",
            "====================================================================================================\n",
            "\n",
            "DataFrame name: df_11000\n",
            "Min ID value: 10001\n",
            "Max ID value: 10999\n",
            "Interval: [(10000, 11000]]\n",
            "Categories (11, interval[int64, right]): [(0, 1000] < (1000, 2000] < (2000, 3000] < (3000, 4000] <\n",
            "                                          ... < (7000, 8000] < (8000, 9000] <\n",
            "                                          (9000, 10000] < (10000, 11000]]\n",
            "Group: [11000]\n",
            "====================================================================================================\n",
            "\n"
          ]
        }
      ]
    },
    {
      "cell_type": "markdown",
      "source": [
        "Sonda yaratdığımız xüsusi \"write_dfs\" funksiyası ilə içində cədvəllərin adları olan siyahıdakı bütün cədvəlləri fayla çevirib qeyd etdiyimiz \"directory\"də yadda saxlayırıq."
      ],
      "metadata": {
        "id": "mqMDWH-cqNRy"
      }
    },
    {
      "cell_type": "code",
      "source": [
        "# write_path = path = 'C:\\\\Users\\\\...\\\\'\n",
        "# to_file = \".csv\"\n",
        "# file_name_pref = \"bina_az_ext_\" \n",
        "\n",
        "# create 'write_dfs' function \n",
        "# to write dataframes as file ('.csv,' '.xlsx', '.pkl', etc.)\n",
        "def write_dfs(df_list, write_path, file_name_pref, encode, to_file = '.csv'):\n",
        "  '''\n",
        "  df_list - list of given names of dataframes to convert to file;\n",
        "\n",
        "  write_path - the folder directory where we want to save files;\n",
        "\n",
        "  file_name_pref - the file name prefix we want to use \n",
        "                   as the same pattern for all the created files;\n",
        "\n",
        "  encode - used for recognition to characters in different languages\n",
        "           while writing dataframe to a file.\n",
        "           For Azerbaijani use: 'utf-8-sig';\n",
        "\n",
        "  to_file - the file format that we want to create \n",
        "            ('.csv,' '.xlsx', '.pkl', etc.)\n",
        "  '''\n",
        "  for df in df_list:\n",
        "      start = globals()[df][0]\n",
        "      end = globals()[df][-1]\n",
        "      globals()[df].to_csv(path + \n",
        "                          file_name_beg +\n",
        "                          str(start) +\n",
        "                          \"_\" +\n",
        "                          str(end) +\n",
        "                          file_type, encoding = encode)"
      ],
      "metadata": {
        "id": "tHUVCGrVXdLG"
      },
      "execution_count": 18,
      "outputs": []
    },
    {
      "cell_type": "markdown",
      "source": [
        "Siz də \"notebook\"u endirib funksiyaları öz cədvəllərinizə tətbiq edə bilərsiniz. Ümid edirəm ki, hazırladığım kodu izah edə bildim. Yaranan hər hansısa bir sual olarsa, əlaqə saxlamaqdan çəkinməyin:\n",
        "\n",
        "https://www.challengersdeep.com/"
      ],
      "metadata": {
        "id": "hhOaD7J4qdsj"
      }
    }
  ]
}